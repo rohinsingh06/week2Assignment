{
 "cells": [
  {
   "cell_type": "markdown",
   "metadata": {},
   "source": [
    "# Weekly assignment 2.2: Bundles goods market\n",
    "\n",
    "Consider the following hypothetical model a bundle goods market. A\n",
    "bundle of goods is a collection of particular items offered at a\n",
    "specified price. Think of Happy Meals offers at McDonalds: you get a set\n",
    "of goods in a meal, for a particular price.\n",
    "\n",
    "One other example of bundled goods - subscription packages in theaters,\n",
    "for example [La Scala in\n",
    "Milan](http://www.teatroallascala.org/en/box-office/subscriptions/types/subscription-types-2018-2019.html)\n",
    "or [Mariinsky in\n",
    "St.Peterburg](https://www.mariinsky.ru/playbill/subscriptions/2018_2019).\n",
    "\n",
    "In this task you will write code to implement and operationalize this\n",
    "setup."
   ]
  },
  {
   "cell_type": "markdown",
   "metadata": {},
   "source": [
    "## Task 1\n",
    "\n",
    "Start with defining a class of a bundle good using the start up code\n",
    "below. The class attribute (common to all objects of this class) is a\n",
    "list of goods. The public property of any bundle is a vector of\n",
    "integers defining how many of each goods are in the bundle, together\n",
    "with the price for that bundle.\n",
    "\n",
    "We are interested in defining the arithmetics for the bungles:\n",
    "\n",
    "- addition:  \n",
    "\n",
    "\n",
    "> 1. sum of two bundles should produce a bundle with added up items\n",
    "  and sum of the prices  \n",
    "1. sum of a bundle and a number (float or int) should only increase\n",
    "  the price  \n",
    "\n",
    "\n",
    "\n",
    "- subtraction:  \n",
    "\n",
    "\n",
    "> 1. difference between two bundles should produce a bundle with\n",
    "  difference in items and difference in prices  \n",
    "1. subtracting a number (float or int) from a bundle should only\n",
    "  decrease its price  \n",
    "\n",
    "\n",
    "\n",
    "- multiplication is only defined for bundle and an integers, and should produce  the bundle with all items multiplied by this number, and price increased by the same number  \n",
    "- devision is only defined for integers, and only such that the all quantities are divisible by this integer, the resulting bundle is a fraction of the original, with the price also decreased by the same number  \n",
    "\n",
    "\n",
    "Complete the class definition code, and run the tests in the next cell.\n",
    "Replace @@@ with appropriate commands (or lines of commands)"
   ]
  },
  {
   "cell_type": "code",
   "execution_count": 156,
   "metadata": {
    "hide-output": false
   },
   "outputs": [
    {
     "ename": "SyntaxError",
     "evalue": "invalid syntax (<ipython-input-156-a53c08f8e71e>, line 12)",
     "output_type": "error",
     "traceback": [
      "\u001b[0;36m  File \u001b[0;32m\"<ipython-input-156-a53c08f8e71e>\"\u001b[0;36m, line \u001b[0;32m12\u001b[0m\n\u001b[0;31m    return len(bundle_good.@@@)\u001b[0m\n\u001b[0m                           ^\u001b[0m\n\u001b[0;31mSyntaxError\u001b[0m\u001b[0;31m:\u001b[0m invalid syntax\n"
     ]
    }
   ],
   "source": [
    "import math\n",
    "\n",
    "class bundle_good():\n",
    "    '''Class of bundled goods with well defined arithmetics'''\n",
    "\n",
    "    items = ('Opera A', 'Opera B', \\\n",
    "             'Ballet A', 'Ballet B', \\\n",
    "             'Symphonic orchestra concert', \\\n",
    "             'Rock opera', \\\n",
    "             'Operetta') # 7 different goods\n",
    "\n",
    "    # to make a computable attribute\n",
    "    @property\n",
    "    def nItems(self):\n",
    "        '''Numer of products'''\n",
    "        return len(bundle_good.@@@)\n",
    "\n",
    "    def __init__(self,quantities=[0,0,0,0,0,0,0],price=0.0):\n",
    "        '''@@@'''\n",
    "\n",
    "        if len(quantities)<self.nItems:\n",
    "            # add zeros for the unspecified items\n",
    "            quantities += [0,]*(@@@)\n",
    "        elif @@@>self.nItems:\n",
    "            # ignore extra numbers\n",
    "            quantities = quantities[@@@]\n",
    "        #ensure the quantities in the object are integer (using list comprehension)\n",
    "        \n",
    "            self.quantities=[math.floor(x) for @@@]\n",
    "            self.price=@@@\n",
    "\n",
    "    def __repr__(@@@):\n",
    "        '''String representation of the object'''\n",
    "        return 'Bundle object %r with price %1.2f' % (self.quantities,self.price)\n",
    "\n",
    "    def __add__(self,other):\n",
    "        '''@@@'''\n",
    "\n",
    "        if type(other) is @@@:\n",
    "            # add the quantities using list comprehension with one-to-one matching (zip)\n",
    "            q1=[x+y for x,y in @@@(self.quantities, other.quantities)]\n",
    "            # sum of the prices\n",
    "            p1=@@@.price + @@@.price\n",
    "            # return new bundle\n",
    "            return bundle_good(@@@)\n",
    "\n",
    "        elif type(@@@) in (float,int):\n",
    "            # increase the price\n",
    "            p1=@@@ + other\n",
    "            # return new bundle\n",
    "            return bundle_good(@@@)\n",
    "\n",
    "        else:\n",
    "            # if other is of the wrong type, raise the TypeError like this:\n",
    "            raise TypeError('Can only add bundle to bundle, or number to bundle price')\n",
    "\n",
    "    def __sub__(self,other):\n",
    "        '''Subtraction for bundles: subtract items and prices, or decrease price'''\n",
    "\n",
    "        @@@\n",
    "\n",
    "        else:\n",
    "            raise TypeError('Can only subtract bundle from bundle, or number from bundle price')\n",
    "\n",
    "    def __mul__(self,num):\n",
    "        '''@@@'''\n",
    "\n",
    "        @@@\n",
    "\n",
    "    def __truediv__(self,num):\n",
    "        '''Division for bundles: fraction of the original bundle, only if quantities are devisable'''\n",
    "\n",
    "        if @@@ is int:\n",
    "            # divide quantities and check for divisibility\n",
    "            q1=[0,]*self.nItems\n",
    "            for i in range(@@@):\n",
    "                if self.quantities[i] % num == @@@:\n",
    "                    q1[i] = self.quantities[@@@] / @@@\n",
    "                else:\n",
    "                    # if can not be devided without a remainder, raise ValueError:\n",
    "                    raise ValueError('Can not divide bundle into fractional parts')\n",
    "            # divide the price\n",
    "            p1 = @@@\n",
    "            # return new bundle\n",
    "            return @@@\n",
    "\n",
    "        else:\n",
    "            raise TypeError('Can only divide bundle by an integer')"
   ]
  },
  {
   "cell_type": "code",
   "execution_count": 2,
   "metadata": {},
   "outputs": [],
   "source": [
    "import math\n",
    "\n",
    "class bundle_good():\n",
    "    '''Class of bundled goods with well defined arithmetics'''\n",
    "\n",
    "    items = ('Opera A', 'Opera B', \\\n",
    "             'Ballet A', 'Ballet B', \\\n",
    "             'Symphonic orchestra concert', \\\n",
    "             'Rock opera', \\\n",
    "             'Operetta') # 7 different goods\n",
    "\n",
    "    # to make a computable attribute\n",
    "    @property\n",
    "    def nItems(self):\n",
    "        '''Numer of products'''\n",
    "        return len(bundle_good.items)\n",
    "    \n",
    "    def __init__(self,quantities=[0,0,0,0,0,0,0], price = 0.0):\n",
    "        '''@@@'''\n",
    "\n",
    "        if len(quantities)<=self.nItems:\n",
    "            # add zeros for the unspecified items\n",
    "            quantities == [0,]*(self.nItems)\n",
    "        elif len(quantities)>self.nItems:\n",
    "            # ignore extra numbers\n",
    "            quantities == quantities[0:self.nItems]\n",
    "        #ensure the quantities in the object are integer (using list comprehension)\n",
    "        \n",
    "        self.quantities=[math.floor(x) for x in quantities]\n",
    "        self.price=price\n",
    "\n",
    "    def __repr__(self):\n",
    "        '''String representation of the object'''\n",
    "        return 'Bundle object %r with price %1.2f' % (self.quantities,self.price)\n",
    "\n",
    "    def __add__(self,other):\n",
    "        '''Adding bundles of goods'''\n",
    "\n",
    "        if type(other) is bundle_good:\n",
    "            # add the quantities using list comprehension with one-to-one matching (zip)\n",
    "            q1=[x+y for x,y in zip(self.quantities, other.quantities)]\n",
    "            # sum of the prices\n",
    "            p1=self.price + other.price\n",
    "            # return new bundle\n",
    "            return bundle_good(quantities=q1, price=p1)\n",
    "\n",
    "        elif type(other) in (float,int):\n",
    "            # increase the price\n",
    "            p1=self.price + other\n",
    "            # return new bundle\n",
    "            return bundle_good(self.quantities, price=p1)\n",
    "\n",
    "        else:\n",
    "            # if other is of the wrong type, raise the TypeError like this:\n",
    "            raise TypeError('Can only add bundle to bundle, or number to bundle price')\n",
    "\n",
    "    def __sub__(self,other):\n",
    "        '''Subtraction for bundles: subtract items and prices, or decrease price'''\n",
    "\n",
    "        if type(other) is bundle_good:\n",
    "            q1 = [x - y for x,y in zip(self.quantities, other.quantities)]\n",
    "            p1 = self.price - other.price\n",
    "            return bundle_good(quantities=q1, price=p1)\n",
    "        \n",
    "        elif type(other) in (float, int):\n",
    "            p1 = self.price - other\n",
    "            return bundle_good(self.quantities, price=p1)\n",
    "        \n",
    "        else:\n",
    "            raise TypeError('Can only subtract bundle from bundle, or number from bundle price')\n",
    "\n",
    "    def __mul__(self,num):\n",
    "        '''Multiplication for bundles: multiplies num with all elements of bundle and price'''\n",
    "        \n",
    "        q1 = [i*num for i in self.quantities]\n",
    "        p1 = num*self.price\n",
    "        return bundle_good(quantities=q1, price=p1)\n",
    "    \n",
    "    def __truediv__(self,num):\n",
    "        '''Division for bundles: fraction of the original bundle, only if quantities are devisable'''\n",
    "\n",
    "        if type(num) == int:\n",
    "            # divide quantities and check for divisibility\n",
    "            q1=[0,]*self.nItems\n",
    "            for i in range(self.nItems):\n",
    "                if self.quantities[i] % num == 0:\n",
    "                    q1[i] = self.quantities[i] / num\n",
    "                else:\n",
    "                    # if can not be devided without a remainder, raise ValueError:\n",
    "                    raise ValueError('Can not divide bundle into fractional parts')\n",
    "            # divide the price\n",
    "            p1 = self.price / num\n",
    "            # return new bundle\n",
    "            return bundle_good(quantities=q1, price=p1)\n",
    "\n",
    "        else:\n",
    "            raise TypeError('Can only divide bundle by an integer')"
   ]
  },
  {
   "cell_type": "markdown",
   "metadata": {},
   "source": [
    "## Task 2\n",
    "\n",
    "To make sure the class is running as it is supposed to, run all the\n",
    "tests below and confirm that the output is as expected."
   ]
  },
  {
   "cell_type": "code",
   "execution_count": 3,
   "metadata": {
    "hide-output": false
   },
   "outputs": [
    {
     "name": "stdout",
     "output_type": "stream",
     "text": [
      "Bundle object [1, 2, 3, 4, 5, 6, 7] with price 11.43\n"
     ]
    }
   ],
   "source": [
    "# Tests\n",
    "items = ('Opera A', 'Opera B', \\\n",
    "             'Ballet A', 'Ballet B', \\\n",
    "             'Symphonic orchestra concert', \\\n",
    "             'Rock opera', \\\n",
    "             'Operetta')\n",
    "x=bundle_good([1,2,3,4,5,6,7],11.43)\n",
    "print(x) #should print \"Bundle object [1, 2, 3, 4, 5, 6, 7] with price 11.43\""
   ]
  },
  {
   "cell_type": "code",
   "execution_count": 4,
   "metadata": {
    "hide-output": false
   },
   "outputs": [
    {
     "name": "stdout",
     "output_type": "stream",
     "text": [
      "Bundle object [1, 2] with price 0.00\n"
     ]
    }
   ],
   "source": [
    "x=bundle_good([1,2])\n",
    "print(x) #should print \"Bundle object [1, 2, 0, 0, 0, 0, 0] with price 0.00\""
   ]
  },
  {
   "cell_type": "code",
   "execution_count": 5,
   "metadata": {
    "hide-output": false
   },
   "outputs": [
    {
     "name": "stdout",
     "output_type": "stream",
     "text": [
      "Bundle object [0, 1, 2, 3, 4, 5, 6, 7, 8, 9, 10, 11, 12, 13, 14, 15, 16, 17, 18, 19, 20, 21, 22, 23, 24] with price 100.20\n"
     ]
    }
   ],
   "source": [
    "x=bundle_good(range(25),100.2)\n",
    "print(x) #should print \"Bundle object [0, 1, 2, 3, 4, 5, 6] with price 100.20\""
   ]
  },
  {
   "cell_type": "code",
   "execution_count": 6,
   "metadata": {
    "hide-output": false
   },
   "outputs": [
    {
     "name": "stdout",
     "output_type": "stream",
     "text": [
      "Bundle object [1, 2, 3, 4, 5, 6, 7] with price 1.43\n"
     ]
    }
   ],
   "source": [
    "x=bundle_good([1.5,2.3,3.2,4.1,5.75,6.86,7.97],1.43)\n",
    "print(x) #should print \"Bundle object [1, 2, 3, 4, 5, 6, 7] with price 1.43\""
   ]
  },
  {
   "cell_type": "code",
   "execution_count": 7,
   "metadata": {
    "hide-output": false
   },
   "outputs": [
    {
     "name": "stdout",
     "output_type": "stream",
     "text": [
      "Bundle object [8, 8, 8, 8, 8, 8, 8] with price 88.88\n"
     ]
    }
   ],
   "source": [
    "x = bundle_good([1,2,3,4,5,6,7],11.43)\n",
    "y = bundle_good([7,6,5,4,3,2,1],77.45)\n",
    "z = x + y\n",
    "print(z) #should print \"Bundle object [8, 8, 8, 8, 8, 8, 8] with price 88.88\""
   ]
  },
  {
   "cell_type": "code",
   "execution_count": 8,
   "metadata": {
    "hide-output": false
   },
   "outputs": [
    {
     "name": "stdout",
     "output_type": "stream",
     "text": [
      "Bundle object [6, 4, 2, 0, -2, -4, -6] with price 66.02\n"
     ]
    }
   ],
   "source": [
    "z= y - x\n",
    "print(z) #should print \"Bundle object [6, 4, 2, 0, -2, -4, -6] with price 66.02\""
   ]
  },
  {
   "cell_type": "code",
   "execution_count": 9,
   "metadata": {
    "hide-output": false
   },
   "outputs": [
    {
     "name": "stdout",
     "output_type": "stream",
     "text": [
      "Bundle object [1, 2, 3, 4, 5, 6, 7] with price 15.96\n"
     ]
    }
   ],
   "source": [
    "z= x + 4.531\n",
    "print(z) #should print \"Bundle object [1, 2, 3, 4, 5, 6, 7] with price 15.96\""
   ]
  },
  {
   "cell_type": "code",
   "execution_count": 10,
   "metadata": {
    "hide-output": false
   },
   "outputs": [
    {
     "name": "stdout",
     "output_type": "stream",
     "text": [
      "Bundle object [7, 6, 5, 4, 3, 2, 1] with price 0.45\n"
     ]
    }
   ],
   "source": [
    "z=y-77\n",
    "print(z) #should print \"Bundle object [7, 6, 5, 4, 3, 2, 1] with price 0.45\""
   ]
  },
  {
   "cell_type": "code",
   "execution_count": 11,
   "metadata": {
    "hide-output": false
   },
   "outputs": [
    {
     "name": "stdout",
     "output_type": "stream",
     "text": [
      "Bundle object [11, 22, 33, 44, 55, 66, 77] with price 125.73\n"
     ]
    }
   ],
   "source": [
    "z=x*11\n",
    "print(z) #should print \"Bundle object [11, 22, 33, 44, 55, 66, 77] with price 125.73\""
   ]
  },
  {
   "cell_type": "code",
   "execution_count": 12,
   "metadata": {
    "hide-output": false
   },
   "outputs": [],
   "source": [
    "try:\n",
    "    z=x*11.5 #should raise a TypeError\n",
    "except TypeError:\n",
    "    print(\"Ok 1\") #should print \"Ok 1\""
   ]
  },
  {
   "cell_type": "code",
   "execution_count": 13,
   "metadata": {
    "hide-output": false
   },
   "outputs": [
    {
     "name": "stdout",
     "output_type": "stream",
     "text": [
      "Ok 2\n"
     ]
    }
   ],
   "source": [
    "try:\n",
    "    z=x*y #should raise a TypeError\n",
    "except TypeError:\n",
    "    print(\"Ok 2\") #should print \"Ok 2\""
   ]
  },
  {
   "cell_type": "code",
   "execution_count": 14,
   "metadata": {
    "hide-output": false
   },
   "outputs": [
    {
     "name": "stdout",
     "output_type": "stream",
     "text": [
      "Ok 3\n"
     ]
    }
   ],
   "source": [
    "try:\n",
    "    z=x/y #should raise a TypeError\n",
    "except TypeError:\n",
    "    print(\"Ok 3\") #should print \"Ok 3\""
   ]
  },
  {
   "cell_type": "code",
   "execution_count": 15,
   "metadata": {
    "hide-output": false
   },
   "outputs": [
    {
     "name": "stdout",
     "output_type": "stream",
     "text": [
      "Bundle object [1, 1, 1, 1, 1, 1, 1] with price 11.11\n"
     ]
    }
   ],
   "source": [
    "z= (x+y)/8\n",
    "print(z) #should print \"Bundle object [1, 1, 1, 1, 1, 1, 1] with price 11.11\""
   ]
  },
  {
   "cell_type": "code",
   "execution_count": 16,
   "metadata": {
    "hide-output": false
   },
   "outputs": [
    {
     "name": "stdout",
     "output_type": "stream",
     "text": [
      "Ok 4\n"
     ]
    }
   ],
   "source": [
    "try:\n",
    "    (x+y)/7 #should raise a ValueError\n",
    "except ValueError:\n",
    "    print(\"Ok 4\") #should print \"Ok 4\""
   ]
  },
  {
   "cell_type": "code",
   "execution_count": 17,
   "metadata": {
    "hide-output": false
   },
   "outputs": [
    {
     "name": "stdout",
     "output_type": "stream",
     "text": [
      "Bundle object [1, 18, 35, 52, 69, 86, 103] with price 16.55\n"
     ]
    }
   ],
   "source": [
    "z=x*15-y*2\n",
    "print(z) #should print \"Bundle object [1, 18, 35, 52, 69, 86, 103] with price 16.55\""
   ]
  },
  {
   "cell_type": "markdown",
   "metadata": {},
   "source": [
    "## Task 3\n",
    "\n",
    "Now that all tests pass, we can use the class bundle_good for some\n",
    "modeling.\n",
    "\n",
    "Consider a market with only two traded bundles, namely\n",
    "[3,7] and [5,12].\n",
    "\n",
    "If a consumer is willing to consume exactly one unit\n",
    "of the first good, how much of the second good will this consumer have\n",
    "to consume?\n",
    "\n",
    "Hint: using the bundle arithmetics, find a bundle with exactly\n",
    "one unit of the first good."
   ]
  },
  {
   "cell_type": "code",
   "execution_count": 18,
   "metadata": {
    "hide-output": false
   },
   "outputs": [
    {
     "name": "stdout",
     "output_type": "stream",
     "text": [
      "Bundle object [1, 2] with price 0.00\n"
     ]
    }
   ],
   "source": [
    "items = ('a', 'b')\n",
    "a=bundle_good([3,7])\n",
    "b=bundle_good([5,12])\n",
    "\n",
    "c = (a*2) - b\n",
    "print(c)"
   ]
  },
  {
   "cell_type": "markdown",
   "metadata": {},
   "source": [
    "## Task 4\n",
    "\n",
    "Consider a consumer with a utility function over the individual goods\n",
    "given by\n",
    "\n",
    "u(x_1,dots,x_7)=log(x_1+1)+big((x_2)^{0.4}+0.5(x_3)^{0.4}big)^{2.5}-0.5log(x_4+1)-0.2(x_5*x_6)^{0.2}+2log(x_7+1).\n",
    "\n",
    "Find the optimal set of bundle goods to be consumed by comparing\n",
    "different combinations of the available bundles shown in the starter\n",
    "code below.\n",
    "There are only three bundle goods on the market, so we\n",
    "can afford a brute force optimization algorithm implemented as a\n",
    "triple nested loop, with each level corresponding to one bundle good\n",
    "and looping from 0 to some reasonable number (think which number\n",
    "would be reasonable).\n",
    "\n",
    "Compute the optimal choice for budgets of:\n",
    "\n",
    "1. 100  \n",
    "1. 200  \n",
    "1. 300  "
   ]
  },
  {
   "cell_type": "code",
   "execution_count": null,
   "metadata": {
    "hide-output": false
   },
   "outputs": [],
   "source": [
    "# Available bundle goods\n",
    "a=bundle_good([2,0,1,3,1,1,0],10.50)\n",
    "b=bundle_good([0,5,0,4,2,2,2],15.36)\n",
    "c=bundle_good([1,0,1,2,0,5,4],12.72)\n",
    "market=[a,b,c]\n",
    "\n",
    "import math\n",
    "\n",
    "# utility function\n",
    "def u(x):\n",
    "    \"\"\"Returns the utility of a bundle\"\"\"\n",
    "    return @@@\n",
    "\n",
    "# optimization routine\n",
    "def optim(budget,util,market):\n",
    "    \"\"\"Returns the optimal combination of goods at the market given budget\"\"\"\n",
    "    nn=@@@ #heuristic for how many points to check\n",
    "    # loop over all combination of three bundles to find max utility\n",
    "    m=-float('inf') #initialize with negative infinity\n",
    "    for i in range(nn):\n",
    "        for j in range(nn):\n",
    "            for k in range(nn):\n",
    "                bnd=@@@\n",
    "                u=util(@@@)\n",
    "                if bnd.price <= budget and m<u:\n",
    "                    m=@@@\n",
    "                    x=@@@\n",
    "    return x #return the optimal combination of goods\n",
    "\n",
    "def report(budget,util,x,market):\n",
    "    \"\"\"Makes nice output\"\"\"\n",
    "    @@@\n",
    "\n",
    "# main program\n",
    "budget=100\n",
    "x=optim(budget,u,market)\n",
    "report(budget,u,x,market)\n",
    "@@@"
   ]
  },
  {
   "cell_type": "code",
   "execution_count": 37,
   "metadata": {},
   "outputs": [
    {
     "ename": "AttributeError",
     "evalue": "'list' object has no attribute 'quantities'",
     "output_type": "error",
     "traceback": [
      "\u001b[0;31m---------------------------------------------------------------------------\u001b[0m",
      "\u001b[0;31mAttributeError\u001b[0m                            Traceback (most recent call last)",
      "\u001b[0;32m<ipython-input-37-76d17c89b855>\u001b[0m in \u001b[0;36m<module>\u001b[0;34m\u001b[0m\n\u001b[1;32m     34\u001b[0m \u001b[0;31m# main program\u001b[0m\u001b[0;34m\u001b[0m\u001b[0;34m\u001b[0m\u001b[0;34m\u001b[0m\u001b[0m\n\u001b[1;32m     35\u001b[0m \u001b[0mbudget\u001b[0m\u001b[0;34m=\u001b[0m\u001b[0;36m100\u001b[0m\u001b[0;34m\u001b[0m\u001b[0;34m\u001b[0m\u001b[0m\n\u001b[0;32m---> 36\u001b[0;31m \u001b[0mx\u001b[0m\u001b[0;34m=\u001b[0m\u001b[0moptim\u001b[0m\u001b[0;34m(\u001b[0m\u001b[0mbudget\u001b[0m\u001b[0;34m,\u001b[0m\u001b[0mu\u001b[0m\u001b[0;34m,\u001b[0m\u001b[0mmarket\u001b[0m\u001b[0;34m)\u001b[0m\u001b[0;34m\u001b[0m\u001b[0;34m\u001b[0m\u001b[0m\n\u001b[0m\u001b[1;32m     37\u001b[0m \u001b[0mreport\u001b[0m\u001b[0;34m(\u001b[0m\u001b[0mbudget\u001b[0m\u001b[0;34m,\u001b[0m\u001b[0mu\u001b[0m\u001b[0;34m,\u001b[0m\u001b[0mx\u001b[0m\u001b[0;34m,\u001b[0m\u001b[0mmarket\u001b[0m\u001b[0;34m)\u001b[0m\u001b[0;34m\u001b[0m\u001b[0;34m\u001b[0m\u001b[0m\n\u001b[1;32m     38\u001b[0m \u001b[0mx\u001b[0m\u001b[0;34m\u001b[0m\u001b[0;34m\u001b[0m\u001b[0m\n",
      "\u001b[0;32m<ipython-input-37-76d17c89b855>\u001b[0m in \u001b[0;36moptim\u001b[0;34m(budget, util, market)\u001b[0m\n\u001b[1;32m     22\u001b[0m             \u001b[0;32mfor\u001b[0m \u001b[0mk\u001b[0m \u001b[0;32min\u001b[0m \u001b[0mrange\u001b[0m\u001b[0;34m(\u001b[0m\u001b[0mnn\u001b[0m\u001b[0;34m)\u001b[0m\u001b[0;34m:\u001b[0m\u001b[0;34m\u001b[0m\u001b[0;34m\u001b[0m\u001b[0m\n\u001b[1;32m     23\u001b[0m                 \u001b[0mbnd\u001b[0m\u001b[0;34m=\u001b[0m\u001b[0mmarket\u001b[0m\u001b[0;34m[\u001b[0m\u001b[0;36m0\u001b[0m\u001b[0;34m]\u001b[0m\u001b[0;34m*\u001b[0m\u001b[0mi\u001b[0m \u001b[0;34m+\u001b[0m \u001b[0mmarket\u001b[0m\u001b[0;34m[\u001b[0m\u001b[0;36m1\u001b[0m\u001b[0;34m]\u001b[0m\u001b[0;34m*\u001b[0m\u001b[0mj\u001b[0m \u001b[0;34m+\u001b[0m \u001b[0mmarket\u001b[0m\u001b[0;34m[\u001b[0m\u001b[0;36m2\u001b[0m\u001b[0;34m]\u001b[0m\u001b[0;34m*\u001b[0m\u001b[0mk\u001b[0m\u001b[0;34m\u001b[0m\u001b[0;34m\u001b[0m\u001b[0m\n\u001b[0;32m---> 24\u001b[0;31m                 \u001b[0mu\u001b[0m\u001b[0;34m=\u001b[0m\u001b[0mutil\u001b[0m\u001b[0;34m(\u001b[0m\u001b[0mbnd\u001b[0m\u001b[0;34m.\u001b[0m\u001b[0mquantities\u001b[0m\u001b[0;34m)\u001b[0m\u001b[0;34m\u001b[0m\u001b[0;34m\u001b[0m\u001b[0m\n\u001b[0m\u001b[1;32m     25\u001b[0m                 \u001b[0;32mif\u001b[0m \u001b[0mbnd\u001b[0m\u001b[0;34m.\u001b[0m\u001b[0mprice\u001b[0m \u001b[0;34m<=\u001b[0m \u001b[0mbudget\u001b[0m \u001b[0;32mand\u001b[0m \u001b[0mm\u001b[0m\u001b[0;34m<\u001b[0m\u001b[0mu\u001b[0m\u001b[0;34m:\u001b[0m\u001b[0;34m\u001b[0m\u001b[0;34m\u001b[0m\u001b[0m\n\u001b[1;32m     26\u001b[0m                     \u001b[0mm\u001b[0m\u001b[0;34m=\u001b[0m\u001b[0mu\u001b[0m\u001b[0;34m\u001b[0m\u001b[0;34m\u001b[0m\u001b[0m\n",
      "\u001b[0;32m<ipython-input-37-76d17c89b855>\u001b[0m in \u001b[0;36mu\u001b[0;34m(x)\u001b[0m\n\u001b[1;32m     10\u001b[0m \u001b[0;32mdef\u001b[0m \u001b[0mu\u001b[0m\u001b[0;34m(\u001b[0m\u001b[0mx\u001b[0m\u001b[0;34m)\u001b[0m\u001b[0;34m:\u001b[0m\u001b[0;34m\u001b[0m\u001b[0;34m\u001b[0m\u001b[0m\n\u001b[1;32m     11\u001b[0m     \u001b[0;34m\"\"\"Returns the utility of a bundle\"\"\"\u001b[0m\u001b[0;34m\u001b[0m\u001b[0;34m\u001b[0m\u001b[0m\n\u001b[0;32m---> 12\u001b[0;31m     \u001b[0;32mreturn\u001b[0m \u001b[0mnp\u001b[0m\u001b[0;34m.\u001b[0m\u001b[0mlog\u001b[0m\u001b[0;34m(\u001b[0m\u001b[0mx\u001b[0m\u001b[0;34m.\u001b[0m\u001b[0mquantities\u001b[0m\u001b[0;34m[\u001b[0m\u001b[0;36m0\u001b[0m\u001b[0;34m]\u001b[0m \u001b[0;34m+\u001b[0m\u001b[0;36m1\u001b[0m\u001b[0;34m)\u001b[0m\u001b[0;34m+\u001b[0m \u001b[0;34m(\u001b[0m\u001b[0mx\u001b[0m\u001b[0;34m.\u001b[0m\u001b[0mquantities\u001b[0m\u001b[0;34m[\u001b[0m\u001b[0;36m1\u001b[0m\u001b[0;34m]\u001b[0m\u001b[0;34m**\u001b[0m\u001b[0;36m0.4\u001b[0m \u001b[0;34m+\u001b[0m \u001b[0;36m0.5\u001b[0m\u001b[0;34m*\u001b[0m\u001b[0mx\u001b[0m\u001b[0;34m.\u001b[0m\u001b[0mquantities\u001b[0m\u001b[0;34m[\u001b[0m\u001b[0;36m2\u001b[0m\u001b[0;34m]\u001b[0m\u001b[0;34m**\u001b[0m\u001b[0;36m0.4\u001b[0m\u001b[0;34m)\u001b[0m\u001b[0;34m**\u001b[0m\u001b[0;36m2.5\u001b[0m \u001b[0;34m-\u001b[0m \u001b[0;36m0.5\u001b[0m\u001b[0;34m*\u001b[0m\u001b[0mnp\u001b[0m\u001b[0;34m.\u001b[0m\u001b[0mlog\u001b[0m\u001b[0;34m(\u001b[0m\u001b[0mx\u001b[0m\u001b[0;34m.\u001b[0m\u001b[0mquantities\u001b[0m\u001b[0;34m[\u001b[0m\u001b[0;36m3\u001b[0m\u001b[0;34m]\u001b[0m \u001b[0;34m+\u001b[0m \u001b[0;36m1\u001b[0m\u001b[0;34m)\u001b[0m \u001b[0;34m-\u001b[0m \u001b[0;36m0.2\u001b[0m\u001b[0;34m*\u001b[0m\u001b[0;34m(\u001b[0m\u001b[0mx\u001b[0m\u001b[0;34m.\u001b[0m\u001b[0mquantities\u001b[0m\u001b[0;34m[\u001b[0m\u001b[0;36m4\u001b[0m\u001b[0;34m]\u001b[0m\u001b[0;34m*\u001b[0m\u001b[0mx\u001b[0m\u001b[0;34m.\u001b[0m\u001b[0mquantities\u001b[0m\u001b[0;34m[\u001b[0m\u001b[0;36m5\u001b[0m\u001b[0;34m]\u001b[0m\u001b[0;34m)\u001b[0m\u001b[0;34m**\u001b[0m\u001b[0;36m0.2\u001b[0m \u001b[0;34m+\u001b[0m \u001b[0;36m2\u001b[0m\u001b[0;34m*\u001b[0m\u001b[0mnp\u001b[0m\u001b[0;34m.\u001b[0m\u001b[0mlog\u001b[0m\u001b[0;34m(\u001b[0m\u001b[0mx\u001b[0m\u001b[0;34m.\u001b[0m\u001b[0mquantities\u001b[0m\u001b[0;34m[\u001b[0m\u001b[0;36m6\u001b[0m\u001b[0;34m]\u001b[0m \u001b[0;34m+\u001b[0m \u001b[0;36m1\u001b[0m\u001b[0;34m)\u001b[0m\u001b[0;34m\u001b[0m\u001b[0;34m\u001b[0m\u001b[0m\n\u001b[0m\u001b[1;32m     13\u001b[0m \u001b[0;34m\u001b[0m\u001b[0m\n\u001b[1;32m     14\u001b[0m \u001b[0;31m# optimization routine\u001b[0m\u001b[0;34m\u001b[0m\u001b[0;34m\u001b[0m\u001b[0;34m\u001b[0m\u001b[0m\n",
      "\u001b[0;31mAttributeError\u001b[0m: 'list' object has no attribute 'quantities'"
     ]
    }
   ],
   "source": [
    "# Available bundle goods\n",
    "a=bundle_good([2,0,1,3,1,1,0],10.50)\n",
    "b=bundle_good([0,5,0,4,2,2,2],15.36)\n",
    "c=bundle_good([1,0,1,2,0,5,4],12.72)\n",
    "market=[a,b,c]\n",
    "\n",
    "import numpy as np\n",
    "\n",
    "# utility function\n",
    "def u(x):\n",
    "    \"\"\"Returns the utility of a bundle\"\"\"\n",
    "    return np.log(x.quantities[0] +1)+ (x.quantities[1]**0.4 + 0.5*x.quantities[2]**0.4)**2.5 - 0.5*np.log(x.quantities[3] + 1) - 0.2*(x.quantities[4]*x.quantities[5])**0.2 + 2*np.log(x.quantities[6] + 1)\n",
    "\n",
    "# optimization routine\n",
    "def optim(budget,util,market):\n",
    "    \"\"\"Returns the optimal combination of goods at the market given budget\"\"\"\n",
    "    nn = budget//10 + 1 #heuristic for how many points to check\n",
    "    # loop over all combination of three bundles to find max utility\n",
    "    m=-float('inf') #initialize with negative infinity\n",
    "    for i in range(nn):\n",
    "        for j in range(nn):\n",
    "            for k in range(nn):\n",
    "                bnd=market[0]*i + market[1]*j + market[2]*k\n",
    "                u=util(bnd.quantities)\n",
    "                if bnd.price <= budget and m<u:\n",
    "                    m=u\n",
    "                    x=[i ,j, k]\n",
    "    return x #return the optimal combination of goods\n",
    "\n",
    "def report(budget,util,x,market):\n",
    "    \"\"\"Makes nice output\"\"\"\n",
    "    return print('The optimal utility is' + util() + 'with budget' + budget + 'and goods' + x +'in market' + market)\n",
    "\n",
    "# main program\n",
    "budget=100\n",
    "x=optim(budget,u,market)\n",
    "report(budget,u,x,market)\n",
    "x"
   ]
  },
  {
   "cell_type": "code",
   "execution_count": 32,
   "metadata": {},
   "outputs": [],
   "source": [
    "# Available bundle goods\n",
    "a=bundle_good([2,0,1,3,1,1,0],10.50)\n",
    "b=bundle_good([0,5,0,4,2,2,2],15.36)\n",
    "c=bundle_good([1,0,1,2,0,5,4],12.72)\n",
    "market=[a,b,c]\n",
    "\n",
    "import numpy as np\n",
    "\n",
    "# utility function\n",
    "def u(x):\n",
    "    \"\"\"Returns the utility of a bundle\"\"\"\n",
    "    return np.log(x.quantities[0] +1)+ (x.quantities[1]**0.4 + 0.5*x.quantities[2]**0.4)**2.5 - 0.5*np.log(x.quantities[3] + 1) - 0.2*(x.quantities[4]*x.quantities[5])**0.2 + 2*np.log(x.quantities[6] + 1)\n",
    "\n",
    "# optimization routine\n",
    "def optim(budget,util,market):\n",
    "    \"\"\"Returns the optimal combination of goods at the market given budget\"\"\"\n",
    "    nn = budget//10 + 1 #heuristic for how many points to check\n",
    "    # loop over all combination of three bundles to find max utility\n",
    "    m=-float('inf') #initialize with negative infinity\n",
    "    for i in range(nn):\n",
    "        for j in range(nn):\n",
    "            for k in range(nn):\n",
    "                bnd=market[0]*i + market[1]*j + market[2]*k\n",
    "                u=util(bnd.quantities)\n",
    "                if bnd.price <= budget and m<u:\n",
    "                    m=u\n",
    "                    x=[i ,j, k]\n",
    "    return x #return the optimal combination of goods"
   ]
  },
  {
   "cell_type": "code",
   "execution_count": 34,
   "metadata": {},
   "outputs": [
    {
     "ename": "AttributeError",
     "evalue": "'list' object has no attribute 'quantities'",
     "output_type": "error",
     "traceback": [
      "\u001b[0;31m---------------------------------------------------------------------------\u001b[0m",
      "\u001b[0;31mAttributeError\u001b[0m                            Traceback (most recent call last)",
      "\u001b[0;32m<ipython-input-34-5c9797cc30d8>\u001b[0m in \u001b[0;36m<module>\u001b[0;34m\u001b[0m\n\u001b[0;32m----> 1\u001b[0;31m \u001b[0moptim\u001b[0m\u001b[0;34m(\u001b[0m\u001b[0;36m100\u001b[0m\u001b[0;34m,\u001b[0m \u001b[0mu\u001b[0m\u001b[0;34m,\u001b[0m \u001b[0mmarket\u001b[0m\u001b[0;34m)\u001b[0m\u001b[0;34m\u001b[0m\u001b[0;34m\u001b[0m\u001b[0m\n\u001b[0m",
      "\u001b[0;32m<ipython-input-32-5eb5371ddd1a>\u001b[0m in \u001b[0;36moptim\u001b[0;34m(budget, util, market)\u001b[0m\n\u001b[1;32m     22\u001b[0m             \u001b[0;32mfor\u001b[0m \u001b[0mk\u001b[0m \u001b[0;32min\u001b[0m \u001b[0mrange\u001b[0m\u001b[0;34m(\u001b[0m\u001b[0mnn\u001b[0m\u001b[0;34m)\u001b[0m\u001b[0;34m:\u001b[0m\u001b[0;34m\u001b[0m\u001b[0;34m\u001b[0m\u001b[0m\n\u001b[1;32m     23\u001b[0m                 \u001b[0mbnd\u001b[0m\u001b[0;34m=\u001b[0m\u001b[0mmarket\u001b[0m\u001b[0;34m[\u001b[0m\u001b[0;36m0\u001b[0m\u001b[0;34m]\u001b[0m\u001b[0;34m*\u001b[0m\u001b[0mi\u001b[0m \u001b[0;34m+\u001b[0m \u001b[0mmarket\u001b[0m\u001b[0;34m[\u001b[0m\u001b[0;36m1\u001b[0m\u001b[0;34m]\u001b[0m\u001b[0;34m*\u001b[0m\u001b[0mj\u001b[0m \u001b[0;34m+\u001b[0m \u001b[0mmarket\u001b[0m\u001b[0;34m[\u001b[0m\u001b[0;36m2\u001b[0m\u001b[0;34m]\u001b[0m\u001b[0;34m*\u001b[0m\u001b[0mk\u001b[0m\u001b[0;34m\u001b[0m\u001b[0;34m\u001b[0m\u001b[0m\n\u001b[0;32m---> 24\u001b[0;31m                 \u001b[0mu\u001b[0m\u001b[0;34m=\u001b[0m\u001b[0mutil\u001b[0m\u001b[0;34m(\u001b[0m\u001b[0mbnd\u001b[0m\u001b[0;34m.\u001b[0m\u001b[0mquantities\u001b[0m\u001b[0;34m)\u001b[0m\u001b[0;34m\u001b[0m\u001b[0;34m\u001b[0m\u001b[0m\n\u001b[0m\u001b[1;32m     25\u001b[0m                 \u001b[0;32mif\u001b[0m \u001b[0mbnd\u001b[0m\u001b[0;34m.\u001b[0m\u001b[0mprice\u001b[0m \u001b[0;34m<=\u001b[0m \u001b[0mbudget\u001b[0m \u001b[0;32mand\u001b[0m \u001b[0mm\u001b[0m\u001b[0;34m<\u001b[0m\u001b[0mu\u001b[0m\u001b[0;34m:\u001b[0m\u001b[0;34m\u001b[0m\u001b[0;34m\u001b[0m\u001b[0m\n\u001b[1;32m     26\u001b[0m                     \u001b[0mm\u001b[0m\u001b[0;34m=\u001b[0m\u001b[0mu\u001b[0m\u001b[0;34m\u001b[0m\u001b[0;34m\u001b[0m\u001b[0m\n",
      "\u001b[0;32m<ipython-input-32-5eb5371ddd1a>\u001b[0m in \u001b[0;36mu\u001b[0;34m(x)\u001b[0m\n\u001b[1;32m     10\u001b[0m \u001b[0;32mdef\u001b[0m \u001b[0mu\u001b[0m\u001b[0;34m(\u001b[0m\u001b[0mx\u001b[0m\u001b[0;34m)\u001b[0m\u001b[0;34m:\u001b[0m\u001b[0;34m\u001b[0m\u001b[0;34m\u001b[0m\u001b[0m\n\u001b[1;32m     11\u001b[0m     \u001b[0;34m\"\"\"Returns the utility of a bundle\"\"\"\u001b[0m\u001b[0;34m\u001b[0m\u001b[0;34m\u001b[0m\u001b[0m\n\u001b[0;32m---> 12\u001b[0;31m     \u001b[0;32mreturn\u001b[0m \u001b[0mnp\u001b[0m\u001b[0;34m.\u001b[0m\u001b[0mlog\u001b[0m\u001b[0;34m(\u001b[0m\u001b[0mx\u001b[0m\u001b[0;34m.\u001b[0m\u001b[0mquantities\u001b[0m\u001b[0;34m[\u001b[0m\u001b[0;36m0\u001b[0m\u001b[0;34m]\u001b[0m \u001b[0;34m+\u001b[0m\u001b[0;36m1\u001b[0m\u001b[0;34m)\u001b[0m\u001b[0;34m+\u001b[0m \u001b[0;34m(\u001b[0m\u001b[0mx\u001b[0m\u001b[0;34m.\u001b[0m\u001b[0mquantities\u001b[0m\u001b[0;34m[\u001b[0m\u001b[0;36m1\u001b[0m\u001b[0;34m]\u001b[0m\u001b[0;34m**\u001b[0m\u001b[0;36m0.4\u001b[0m \u001b[0;34m+\u001b[0m \u001b[0;36m0.5\u001b[0m\u001b[0;34m*\u001b[0m\u001b[0mx\u001b[0m\u001b[0;34m.\u001b[0m\u001b[0mquantities\u001b[0m\u001b[0;34m[\u001b[0m\u001b[0;36m2\u001b[0m\u001b[0;34m]\u001b[0m\u001b[0;34m**\u001b[0m\u001b[0;36m0.4\u001b[0m\u001b[0;34m)\u001b[0m\u001b[0;34m**\u001b[0m\u001b[0;36m2.5\u001b[0m \u001b[0;34m-\u001b[0m \u001b[0;36m0.5\u001b[0m\u001b[0;34m*\u001b[0m\u001b[0mnp\u001b[0m\u001b[0;34m.\u001b[0m\u001b[0mlog\u001b[0m\u001b[0;34m(\u001b[0m\u001b[0mx\u001b[0m\u001b[0;34m.\u001b[0m\u001b[0mquantities\u001b[0m\u001b[0;34m[\u001b[0m\u001b[0;36m3\u001b[0m\u001b[0;34m]\u001b[0m \u001b[0;34m+\u001b[0m \u001b[0;36m1\u001b[0m\u001b[0;34m)\u001b[0m \u001b[0;34m-\u001b[0m \u001b[0;36m0.2\u001b[0m\u001b[0;34m*\u001b[0m\u001b[0;34m(\u001b[0m\u001b[0mx\u001b[0m\u001b[0;34m.\u001b[0m\u001b[0mquantities\u001b[0m\u001b[0;34m[\u001b[0m\u001b[0;36m4\u001b[0m\u001b[0;34m]\u001b[0m\u001b[0;34m*\u001b[0m\u001b[0mx\u001b[0m\u001b[0;34m.\u001b[0m\u001b[0mquantities\u001b[0m\u001b[0;34m[\u001b[0m\u001b[0;36m5\u001b[0m\u001b[0;34m]\u001b[0m\u001b[0;34m)\u001b[0m\u001b[0;34m**\u001b[0m\u001b[0;36m0.2\u001b[0m \u001b[0;34m+\u001b[0m \u001b[0;36m2\u001b[0m\u001b[0;34m*\u001b[0m\u001b[0mnp\u001b[0m\u001b[0;34m.\u001b[0m\u001b[0mlog\u001b[0m\u001b[0;34m(\u001b[0m\u001b[0mx\u001b[0m\u001b[0;34m.\u001b[0m\u001b[0mquantities\u001b[0m\u001b[0;34m[\u001b[0m\u001b[0;36m6\u001b[0m\u001b[0;34m]\u001b[0m \u001b[0;34m+\u001b[0m \u001b[0;36m1\u001b[0m\u001b[0;34m)\u001b[0m\u001b[0;34m\u001b[0m\u001b[0;34m\u001b[0m\u001b[0m\n\u001b[0m\u001b[1;32m     13\u001b[0m \u001b[0;34m\u001b[0m\u001b[0m\n\u001b[1;32m     14\u001b[0m \u001b[0;31m# optimization routine\u001b[0m\u001b[0;34m\u001b[0m\u001b[0;34m\u001b[0m\u001b[0;34m\u001b[0m\u001b[0m\n",
      "\u001b[0;31mAttributeError\u001b[0m: 'list' object has no attribute 'quantities'"
     ]
    }
   ],
   "source": [
    "optim(100, u, market)"
   ]
  },
  {
   "cell_type": "markdown",
   "metadata": {},
   "source": [
    "## Task 5\n",
    "\n",
    "Imagine the newly introduced sales tax raised all prices by 15%.\n",
    "Recompute the optimal choices in previous question.\n",
    "\n",
    "Do the optimal choices change, and how?"
   ]
  },
  {
   "cell_type": "code",
   "execution_count": null,
   "metadata": {
    "hide-output": false
   },
   "outputs": [],
   "source": [
    "# Write your code here"
   ]
  },
  {
   "cell_type": "markdown",
   "metadata": {},
   "source": [
    "## Task 6\n",
    "\n",
    "Imagine the sale for bundle good c lowers its price by 20%. Recompute\n",
    "the optimal choices in previous question.\n",
    "\n",
    "Do the optimal choices change, and how?"
   ]
  },
  {
   "cell_type": "code",
   "execution_count": null,
   "metadata": {
    "hide-output": false
   },
   "outputs": [],
   "source": [
    "# Write your code here"
   ]
  }
 ],
 "metadata": {
  "filename": "assignment2task2.rst",
  "kernelspec": {
   "display_name": "Python 3",
   "language": "python",
   "name": "python3"
  },
  "language_info": {
   "codemirror_mode": {
    "name": "ipython",
    "version": 3
   },
   "file_extension": ".py",
   "mimetype": "text/x-python",
   "name": "python",
   "nbconvert_exporter": "python",
   "pygments_lexer": "ipython3",
   "version": "3.7.3"
  },
  "title": "Weekly assignment 2.2: Bundles goods market"
 },
 "nbformat": 4,
 "nbformat_minor": 2
}
